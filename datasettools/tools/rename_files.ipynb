{
 "cells": [
  {
   "cell_type": "code",
   "execution_count": 1,
   "outputs": [],
   "source": [
    "%load_ext autoreload\n",
    "%autoreload 2\n",
    "\n",
    "import lib.rename_files"
   ],
   "metadata": {
    "collapsed": false,
    "pycharm": {
     "name": "#%%\n"
    }
   }
  },
  {
   "cell_type": "code",
   "execution_count": 2,
   "outputs": [],
   "source": [
    "path_source = 'assets/source/gtsdbtest'\n",
    "path_target = 'assets/target/gtsdbtest'"
   ],
   "metadata": {
    "collapsed": false,
    "pycharm": {
     "name": "#%%\n"
    }
   }
  },
  {
   "cell_type": "code",
   "execution_count": 4,
   "outputs": [
    {
     "name": "stdout",
     "output_type": "stream",
     "text": [
      "1200px-2018-08-09_(290)_Street_crossing_der_at_B_29_Manker_Straße_at_Rammersdorf,_St._Margarethen_an_der_Sierning,_Austria.jpg\n",
      "24583446_XXL.jpg\n",
      "400px-Kirchbichl_B171_Nord.JPG\n",
      "440px-B170_Beginn.jpg\n",
      "80-km-uur-regel-frankrijk-dep-yvelines-cc-by-Nicolas-DUPREY-CD-78-2.jpg\n",
      "F_Col-du-Pradel_Passage-Canadien_credits_Hilke-Maunder.jpg\n",
      "Hier-geht-es-nicht-weiter-Die-neuen-Fahrverbote-auf-Ausweichstrecken-durch-Ortschaften-haben-den-Anwohnern-Entlastung-gebracht.jpg\n",
      "IMG_2862.JPG\n",
      "IMG_2880.JPG\n",
      "a8e1add21ae72a7a1d9b20c9bf5.jpg\n",
      "b7fde328-0001-0004-0000-000001178418_w948_r1.778_fpx44.8_fpy49.97.jpg\n",
      "feb-hard-austria-guidepost-town-close-to-german-border-road-sign-small-germany-written-except-priority-language-183894765.jpg\n",
      "image-169FullWidth-a29edae9-1373279.jpg\n",
      "image.jpg\n",
      "images.jpg\n",
      "kreisverkehr-1024x576.jpg\n",
      "maxresdefault.jpg\n",
      "road-3770359_1280.jpg\n",
      "wsi-imageoptim-French-Road-Signs-Speed-Road-lane-change-367x243.jpg\n"
     ]
    }
   ],
   "source": [
    "rename_files.list_files(path_source)"
   ],
   "metadata": {
    "collapsed": false,
    "pycharm": {
     "name": "#%%\n"
    }
   }
  },
  {
   "cell_type": "code",
   "execution_count": 7,
   "outputs": [
    {
     "name": "stdout",
     "output_type": "stream",
     "text": [
      "Renamed source/gtsdbtest/1200px-2018-08-09_(290)_Street_crossing_der_at_B_29_Manker_Straße_at_Rammersdorf,_St._Margarethen_an_der_Sierning,_Austria.jpg to target/gtsdbtest/gtsdbtest1.jpg\n",
      "Renamed source/gtsdbtest/24583446_XXL.jpg to target/gtsdbtest/gtsdbtest2.jpg\n",
      "Renamed source/gtsdbtest/440px-B170_Beginn.jpg to target/gtsdbtest/gtsdbtest3.jpg\n",
      "Renamed source/gtsdbtest/80-km-uur-regel-frankrijk-dep-yvelines-cc-by-Nicolas-DUPREY-CD-78-2.jpg to target/gtsdbtest/gtsdbtest4.jpg\n",
      "Renamed source/gtsdbtest/F_Col-du-Pradel_Passage-Canadien_credits_Hilke-Maunder.jpg to target/gtsdbtest/gtsdbtest5.jpg\n",
      "Renamed source/gtsdbtest/Hier-geht-es-nicht-weiter-Die-neuen-Fahrverbote-auf-Ausweichstrecken-durch-Ortschaften-haben-den-Anwohnern-Entlastung-gebracht.jpg to target/gtsdbtest/gtsdbtest6.jpg\n",
      "Renamed source/gtsdbtest/a8e1add21ae72a7a1d9b20c9bf5.jpg to target/gtsdbtest/gtsdbtest7.jpg\n",
      "Renamed source/gtsdbtest/b7fde328-0001-0004-0000-000001178418_w948_r1.778_fpx44.8_fpy49.97.jpg to target/gtsdbtest/gtsdbtest8.jpg\n",
      "Renamed source/gtsdbtest/feb-hard-austria-guidepost-town-close-to-german-border-road-sign-small-germany-written-except-priority-language-183894765.jpg to target/gtsdbtest/gtsdbtest9.jpg\n",
      "Renamed source/gtsdbtest/image-169FullWidth-a29edae9-1373279.jpg to target/gtsdbtest/gtsdbtest10.jpg\n",
      "Renamed source/gtsdbtest/image.jpg to target/gtsdbtest/gtsdbtest11.jpg\n",
      "Renamed source/gtsdbtest/images.jpg to target/gtsdbtest/gtsdbtest12.jpg\n",
      "Renamed source/gtsdbtest/kreisverkehr-1024x576.jpg to target/gtsdbtest/gtsdbtest13.jpg\n",
      "Renamed source/gtsdbtest/maxresdefault.jpg to target/gtsdbtest/gtsdbtest14.jpg\n",
      "Renamed source/gtsdbtest/road-3770359_1280.jpg to target/gtsdbtest/gtsdbtest15.jpg\n",
      "Renamed source/gtsdbtest/wsi-imageoptim-French-Road-Signs-Speed-Road-lane-change-367x243.jpg to target/gtsdbtest/gtsdbtest16.jpg\n"
     ]
    }
   ],
   "source": [
    "rename_files.rename_files(path_source, path_target)"
   ],
   "metadata": {
    "collapsed": false,
    "pycharm": {
     "name": "#%%\n"
    }
   }
  },
  {
   "cell_type": "code",
   "execution_count": 8,
   "outputs": [
    {
     "name": "stdout",
     "output_type": "stream",
     "text": [
      "gtsdbtest1.jpg\n",
      "gtsdbtest10.jpg\n",
      "gtsdbtest11.jpg\n",
      "gtsdbtest12.jpg\n",
      "gtsdbtest13.jpg\n",
      "gtsdbtest14.jpg\n",
      "gtsdbtest15.jpg\n",
      "gtsdbtest16.jpg\n",
      "gtsdbtest2.jpg\n",
      "gtsdbtest3.jpg\n",
      "gtsdbtest4.jpg\n",
      "gtsdbtest5.jpg\n",
      "gtsdbtest6.jpg\n",
      "gtsdbtest7.jpg\n",
      "gtsdbtest8.jpg\n",
      "gtsdbtest9.jpg\n"
     ]
    }
   ],
   "source": [
    "rename_files.list_files(path_target)"
   ],
   "metadata": {
    "collapsed": false,
    "pycharm": {
     "name": "#%%\n"
    }
   }
  },
  {
   "cell_type": "code",
   "execution_count": null,
   "outputs": [],
   "source": [],
   "metadata": {
    "collapsed": false,
    "pycharm": {
     "name": "#%%\n"
    }
   }
  }
 ],
 "metadata": {
  "kernelspec": {
   "display_name": "Python 3",
   "language": "python",
   "name": "python3"
  },
  "language_info": {
   "codemirror_mode": {
    "name": "ipython",
    "version": 2
   },
   "file_extension": ".py",
   "mimetype": "text/x-python",
   "name": "python",
   "nbconvert_exporter": "python",
   "pygments_lexer": "ipython2",
   "version": "2.7.6"
  }
 },
 "nbformat": 4,
 "nbformat_minor": 0
}