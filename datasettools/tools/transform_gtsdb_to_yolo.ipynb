{
 "cells": [
  {
   "cell_type": "code",
   "execution_count": 1,
   "id": "3540e779-7b0e-42c4-9d7e-baa140337a94",
   "metadata": {},
   "outputs": [],
   "source": [
    "%load_ext autoreload\n",
    "%autoreload 2\n",
    "\n",
    "from lib.transform_gtsdb_to_yolo import Transform"
   ]
  },
  {
   "cell_type": "code",
   "execution_count": null,
   "id": "89cb5de4",
   "metadata": {
    "pycharm": {
     "name": "#%%\n",
     "is_executing": true
    }
   },
   "outputs": [],
   "source": [
    "trainTransform = Transform(\n",
    "    img_path_source = 'assets/source/GTSB/Detection/FullIJCNN2013/',\n",
    "    img_path_target = 'assets/target/gtsdb/train/images/',\n",
    "    label_filepath_source = 'assets/source/GTSB/Detection/FullIJCNN2013/gt.txt',\n",
    "    label_path_target = 'assets/target/gtsdb/train/labels/',\n",
    "    img_extension_source = '.ppm',\n",
    "    img_extension_target = '.jpg',\n",
    "    label_extension_target = '.txt',\n",
    "    files_to_use = [x for x in range(0,600)]\n",
    ")\n",
    "trainTransform.execute()"
   ]
  },
  {
   "cell_type": "code",
   "execution_count": null,
   "id": "7b920f4a",
   "metadata": {
    "collapsed": false,
    "jupyter": {
     "outputs_hidden": false
    },
    "pycharm": {
     "name": "#%%\n",
     "is_executing": true
    }
   },
   "outputs": [],
   "source": [
    "trainTransform = Transform(\n",
    "    img_path_source = 'assets/source/GTSB/Detection/FullIJCNN2013/',\n",
    "    img_path_target = 'assets/target/gtsdb/valid/images/',\n",
    "    label_filepath_source = 'assets/source/GTSB/Detection/FullIJCNN2013/gt.txt',\n",
    "    label_path_target = 'assets/target/gtsdb/valid/labels/',\n",
    "    img_extension_source = '.ppm',\n",
    "    img_extension_target = '.jpg',\n",
    "    label_extension_target = '.txt',\n",
    "    files_to_use = [x for x in range(600, 900)]\n",
    ")\n",
    "trainTransform.execute()"
   ]
  }
 ],
 "metadata": {
  "kernelspec": {
   "display_name": "Python 3 (ipykernel)",
   "language": "python",
   "name": "python3"
  },
  "language_info": {
   "codemirror_mode": {
    "name": "ipython",
    "version": 3
   },
   "file_extension": ".py",
   "mimetype": "text/x-python",
   "name": "python",
   "nbconvert_exporter": "python",
   "pygments_lexer": "ipython3",
   "version": "3.8.12"
  }
 },
 "nbformat": 4,
 "nbformat_minor": 5
}